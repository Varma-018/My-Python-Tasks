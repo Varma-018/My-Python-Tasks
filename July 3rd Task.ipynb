{
 "cells": [
  {
   "cell_type": "code",
   "execution_count": 3,
   "id": "79510869",
   "metadata": {},
   "outputs": [
    {
     "name": "stdout",
     "output_type": "stream",
     "text": [
      "{1: ['a', 'c'], 2: ['b'], 3: ['d']}\n"
     ]
    }
   ],
   "source": [
    "# 1. Invert a dictionary with list values (group keys by their values) \n",
    "# Input:\n",
    "d = {'a': 1, 'b': 2, 'c': 1, 'd': 3}\n",
    "res={}\n",
    "for i,j in d.items():\n",
    "    res.setdefault(j,[]).append(i)\n",
    "print(res)"
   ]
  },
  {
   "cell_type": "code",
   "execution_count": 5,
   "id": "b89cda21",
   "metadata": {},
   "outputs": [
    {
     "name": "stdout",
     "output_type": "stream",
     "text": [
      "15\n",
      "5\n"
     ]
    }
   ],
   "source": [
    "d = {'a': 10, 'b': 5, 'c': 15}\n",
    "print(max(d.values()))\n",
    "print(min(d.values()))"
   ]
  },
  {
   "cell_type": "code",
   "execution_count": 7,
   "id": "57734134",
   "metadata": {},
   "outputs": [
    {
     "name": "stdout",
     "output_type": "stream",
     "text": [
      "{2: 'Prime', 3: 'Prime', 4: 'Not Prime', 5: 'Prime', 6: 'Not Prime'}\n"
     ]
    }
   ],
   "source": [
    "# create a dictionary using dictionary comprehension for the given list of numbers, where:\n",
    "# • Each number is a key.\n",
    "# • The value is \"prime\" if the number is prime.\n",
    "# • The value is \"notprime\" if the number is not prime.\n",
    "res={i:'Prime' if all(i%j!=0 for j in range (2,i)) else 'Not Prime' for i in range (2,7)}\n",
    "print(res)"
   ]
  },
  {
   "cell_type": "code",
   "execution_count": 10,
   "id": "4240213d",
   "metadata": {},
   "outputs": [
    {
     "name": "stdout",
     "output_type": "stream",
     "text": [
      "{'hello': 5, 'world': 5, 'great': 5}\n"
     ]
    }
   ],
   "source": [
    "# Create a dictionary from a list of words, keys as words, values as word lengths, but only for words longer than 3 characters \n",
    "List=[\"hi\", \"hello\", \"world\", \"is\", \"great\"]\n",
    "res={i:len(i) for i in List if len(i)>3}\n",
    "print(res)"
   ]
  },
  {
   "cell_type": "code",
   "execution_count": null,
   "id": "d1ccac1b",
   "metadata": {},
   "outputs": [
    {
     "name": "stdout",
     "output_type": "stream",
     "text": [
      "{'A': 65, 'B': 66, 'C': 67, 'D': 68}\n"
     ]
    }
   ],
   "source": [
    "# Create a dictionary with uppercase letters as keys and their ASCII values as values use dict comprehension .\n",
    "l = ['a', 'b', 'c', 'd']\n",
    "print({chr(ord(i)-32) : ord(i)-32 for i in l})"
   ]
  },
  {
   "cell_type": "code",
   "execution_count": 28,
   "id": "4f7bc040",
   "metadata": {},
   "outputs": [
    {
     "name": "stdout",
     "output_type": "stream",
     "text": [
      "[[1, 5], [2, 6]]\n",
      "[[100, 5], [2, 6]] [[100, 5], [2, 6]]\n",
      "[[1, 5], [2, 6]]\n",
      "[[1, 5], [2, 6]] [[100, 5], [2, 6]]\n"
     ]
    }
   ],
   "source": [
    "# 1.Explain about setdefault function in dictionary data type ?\n",
    "'''If the key does not exist, it adds the key with a specified default value, and then returns that default value.'''\n",
    "# 2.Difference between d[key] and d.get(key)?\n",
    "'''d[key]: it shows the given value of a key. if the given key is not in dictonary, it shows 'error'.\n",
    "   d.get[key]: it shows the given value of a key. if the given key is not in dictonary, it shows 'None'.'''\n",
    "# 3.What is the difference between Shallow Copy and Deep Copy in Python? Explain with examples ?\n",
    "'''Shallow Copy: A shallow copy creates a new object, but it copies references of the nested objects inside it, not the actual nested objects themselves. it changes the actual value also.\n",
    "   Example of shallow copy.'''\n",
    "\n",
    "import copy\n",
    "x=[[1,5],[2,6]]\n",
    "print(x)\n",
    "y=copy.copy(x)\n",
    "y[0][0]=100\n",
    "print(x,y)\n",
    "\n",
    "'''Deep copy: A deep copy creates a completely independent copy, including all nested or referenced objects.'''\n",
    "import copy\n",
    "x=[[1,5],[2,6]]\n",
    "print(x)\n",
    "y=copy.deepcopy(x)\n",
    "y[0][0]=100\n",
    "print(x,y)\n"
   ]
  },
  {
   "cell_type": "code",
   "execution_count": null,
   "id": "fcef7a2a",
   "metadata": {},
   "outputs": [],
   "source": [
    "# 1) How to swap two variables without using a third variable?\n",
    "''' 1.Using Python’s Tuple Unpacking\n",
    "    2.Using Arithmetic Operations\n",
    "    3.Using Bitwise XOR\n",
    "'''\n",
    "# 2) Explain packing and unpacking in Python.\n",
    "''' Packing:\n",
    "    Packing is the process of putting multiple values into a single iterable object (like a tuple or list).\n",
    "    Unpacking:\n",
    "    Unpacking is the process of extracting values from an iterable into individual variables.\n",
    "'''\n",
    "# 3) What is the use of enumerate(), zip(), map(), filter(), reduce().\n",
    "'''\n",
    "    enumerate() : Adds a counter to an iterable (like a list) and returns it as an enumerate object (which can be looped over).\n",
    "    zip(): Combines multiple iterables into a single iterator of tuples.\n",
    "    map(): Applies a function to every item in an iterable and returns a map object (which is iterable).\n",
    "    filter(): Filters elements from an iterable based on a condition (function that returns True/False).\n",
    "    reduce(): Applies a function cumulatively to the items of an iterable, reducing it to a single value.\n",
    "'''"
   ]
  }
 ],
 "metadata": {
  "kernelspec": {
   "display_name": "Python 3",
   "language": "python",
   "name": "python3"
  },
  "language_info": {
   "codemirror_mode": {
    "name": "ipython",
    "version": 3
   },
   "file_extension": ".py",
   "mimetype": "text/x-python",
   "name": "python",
   "nbconvert_exporter": "python",
   "pygments_lexer": "ipython3",
   "version": "3.13.5"
  }
 },
 "nbformat": 4,
 "nbformat_minor": 5
}
