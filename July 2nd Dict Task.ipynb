{
 "cells": [
  {
   "cell_type": "code",
   "execution_count": 11,
   "id": "415d6cb9",
   "metadata": {},
   "outputs": [
    {
     "name": "stdout",
     "output_type": "stream",
     "text": [
      "{'age': 25, 'city': 'New york'}\n"
     ]
    }
   ],
   "source": [
    "# 1. Delete a list of keys from a dictionary\n",
    "# sample_dict = {\"name\": \"Kelly\",\"age\": 25, \"salary\": 8000, \"city\": \"New york\"}\n",
    "# # Keys to remove\n",
    "# keys = [\"name\", \"salary\"]\n",
    "dict = {\"name\": \"Kelly\",\"age\": 25, \"salary\": 8000, \"city\": \"New york\"}\n",
    "dict.pop(\"name\")\n",
    "dict.pop(\"salary\")\n",
    "print(dict)"
   ]
  },
  {
   "cell_type": "code",
   "execution_count": 19,
   "id": "9c5671e9",
   "metadata": {},
   "outputs": [
    {
     "name": "stdout",
     "output_type": "stream",
     "text": [
      "{'p': 1, 'r': 2, 'o': 1, 'g': 2, 'a': 1, 'm': 2, 'i': 1, 'n': 1}\n"
     ]
    }
   ],
   "source": [
    "# 2. Count the frequency of each character in a given string using a dictionary.\n",
    "s='programming'\n",
    "c={}\n",
    "for i in s:\n",
    "    if i in c:\n",
    "        c[i]+=1\n",
    "    else:\n",
    "        c[i]=1\n",
    "print(c)"
   ]
  },
  {
   "cell_type": "code",
   "execution_count": 24,
   "id": "63e68000",
   "metadata": {},
   "outputs": [
    {
     "name": "stdout",
     "output_type": "stream",
     "text": [
      "{1: 'a', 2: 'b', 3: 'c', 4: 'd'}\n"
     ]
    }
   ],
   "source": [
    "# 3. Swap keys and values in a dictionary.\n",
    "x={'a':1,'b':2,'c':3,'d':4}\n",
    "d={}\n",
    "for i,j in x.items():\n",
    "    d[j]=i\n",
    "print(d)"
   ]
  },
  {
   "cell_type": "code",
   "execution_count": 26,
   "id": "8edb8402",
   "metadata": {},
   "outputs": [
    {
     "name": "stdout",
     "output_type": "stream",
     "text": [
      "10\n"
     ]
    }
   ],
   "source": [
    "# 4. Write a program to sum all the values in a dictionary.\n",
    "h={'a':1,'b':2,'c':3,'d':4}\n",
    "sum=0\n",
    "for i in h:\n",
    "    sum+=h[i]\n",
    "print(sum)"
   ]
  },
  {
   "cell_type": "code",
   "execution_count": 27,
   "id": "5f6e9bbe",
   "metadata": {},
   "outputs": [
    {
     "name": "stdout",
     "output_type": "stream",
     "text": [
      "{'Varma': {'Roll': 306, 'Branch': 'Mech', 'Marks': 85}, 'Pavan': {'Roll': 217, 'Branch': 'EEE', 'Marks': 87}, 'Daany': {'Roll': 118, 'Branch': 'ECE', 'Marks': 75}}\n"
     ]
    }
   ],
   "source": [
    "# 5. Create a nested dictionary for student details (name, roll, marks).\n",
    "d={'Varma':{'Roll':306,'Branch':'Mech','Marks':85},\n",
    "   'Pavan':{'Roll':217,'Branch':'EEE','Marks':87},\n",
    "   'Daany':{'Roll':118,'Branch':'ECE','Marks':75}}\n",
    "print(d)"
   ]
  },
  {
   "cell_type": "code",
   "execution_count": 28,
   "id": "05c99fe3",
   "metadata": {},
   "outputs": [
    {
     "name": "stdout",
     "output_type": "stream",
     "text": [
      "('a', 1)\n",
      "('b', 2)\n",
      "('c', 3)\n",
      "('d', 4)\n"
     ]
    }
   ],
   "source": [
    "# 6. Convert a dictionary to a list of tuples.\n",
    "h={'a':1,'b':2,'c':3,'d':4}\n",
    "for i in h.items():\n",
    "    print(i)"
   ]
  },
  {
   "cell_type": "code",
   "execution_count": 29,
   "id": "87b101ba",
   "metadata": {},
   "outputs": [
    {
     "name": "stdout",
     "output_type": "stream",
     "text": [
      "{'Python': 6, 'Fullstack': 9, 'Developer': 9}\n"
     ]
    }
   ],
   "source": [
    "# 7. Write a program to store names as keys and their lengths as values.\n",
    "k={\"Python\",\"Fullstack\",\"Developer\"}\n",
    "d={}\n",
    "for i in k:\n",
    "    d[i]=len(i)\n",
    "print(d)"
   ]
  },
  {
   "cell_type": "code",
   "execution_count": 34,
   "id": "0e40806d",
   "metadata": {},
   "outputs": [
    {
     "name": "stdout",
     "output_type": "stream",
     "text": [
      "{1: 'odd', 2: 'even', 3: 'odd', 4: 'even', 5: 'odd', 6: 'even', 7: 'odd', 8: 'even'}\n"
     ]
    }
   ],
   "source": [
    "# 8. Create a dictionary for numbers 1 to 5, where the value is \"even\" if the number is even, and \"odd\" if the number is odd Expected Output:\n",
    "# {1: 'odd', 2: 'even', 3: 'odd', 4: 'even', 5: 'odd'}\n",
    "x={}\n",
    "for i in range(1,9):\n",
    "    if i%2==0:\n",
    "        x[i]='even'\n",
    "    else:\n",
    "        x[i]='odd'\n",
    "print(x)"
   ]
  },
  {
   "cell_type": "code",
   "execution_count": 35,
   "id": "9b301cfa",
   "metadata": {},
   "outputs": [
    {
     "name": "stdout",
     "output_type": "stream",
     "text": [
      "{'cat': 'tac', 'dog': 'god', 'bat': 'tab'}\n"
     ]
    }
   ],
   "source": [
    "# 9. Create Reverse Word Dictionary\n",
    "# Given list of words: words = [\"cat\", \"dog\", \"bat\"]\n",
    "# Create a dictionary with words as keys and their reversed strings as values\n",
    "# Expected Output: {'cat': 'tac', 'dog': 'god', 'bat': 'tab'}\n",
    "w = [\"cat\", \"dog\", \"bat\"]\n",
    "x={}\n",
    "for i in w:\n",
    "    res=''\n",
    "    for j in i:\n",
    "        res=j+res\n",
    "    x[i]=res\n",
    "print(x)"
   ]
  }
 ],
 "metadata": {
  "kernelspec": {
   "display_name": "Python 3",
   "language": "python",
   "name": "python3"
  },
  "language_info": {
   "codemirror_mode": {
    "name": "ipython",
    "version": 3
   },
   "file_extension": ".py",
   "mimetype": "text/x-python",
   "name": "python",
   "nbconvert_exporter": "python",
   "pygments_lexer": "ipython3",
   "version": "3.13.5"
  }
 },
 "nbformat": 4,
 "nbformat_minor": 5
}
